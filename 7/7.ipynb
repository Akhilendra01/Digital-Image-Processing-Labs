{
 "cells": [
  {
   "cell_type": "code",
   "execution_count": 1,
   "metadata": {},
   "outputs": [],
   "source": [
    "import numpy as np\n",
    "from PIL import Image"
   ]
  },
  {
   "cell_type": "code",
   "execution_count": 26,
   "metadata": {},
   "outputs": [],
   "source": [
    "from queue import Queue\n",
    "\n",
    "def cal_dist(p1: tuple, p2: tuple, im, mode: str = 'd4') -> int:\n",
    "    N=im.size[0]\n",
    "    dist = np.full((N, N), float('inf'))\n",
    "    vis = np.full((N, N), 0)\n",
    "    px, py = p1\n",
    "    qx, qy = p2\n",
    "    dist[px][py] = 0\n",
    "    vis[px][py] = 1\n",
    "\n",
    "    q = Queue()\n",
    "    q.put(p1)\n",
    "    dx, dy = [], []\n",
    "\n",
    "    if mode == 'd4':\n",
    "        dx = np.array([0, 1, 0, -1])\n",
    "        dy = np.array([1, 0, -1, 0])\n",
    "    elif mode == 'd8':\n",
    "        for x in range(-1, 2, 1):\n",
    "            for y in range(-1, 2, 1):\n",
    "                dx.append(x)\n",
    "                dy.append(y)\n",
    "        dx = np.array(dx)\n",
    "        dy = np.array(dy)\n",
    "\n",
    "    while not q.empty():\n",
    "        x, y = q.get()\n",
    "        new_x, new_y = x + dx, y + dy\n",
    "\n",
    "        for xx, yy in zip(new_x, new_y):\n",
    "            if xx < 0 or yy < 0 or xx >= N or yy >= N or im.getpixel((xx, yy)) == 0 or vis[xx][yy]==1:\n",
    "                continue\n",
    "            dist[xx][yy] = 1 + dist[x][y]\n",
    "            vis[xx][yy] = 1\n",
    "            q.put((xx, yy))\n",
    "    val = dist[qx][qy]\n",
    "    return val if val != float('inf') else -1\n"
   ]
  },
  {
   "cell_type": "code",
   "execution_count": 12,
   "metadata": {},
   "outputs": [],
   "source": [
    "def thresholding(im, threshold: int):\n",
    "    res=Image.new('1', im.size)\n",
    "    w, h=im.size\n",
    "    for x in range(w):\n",
    "        for y in range(h):\n",
    "            if im.getpixel((x, y))<threshold:\n",
    "                res.putpixel((x, y), 0)\n",
    "            else:\n",
    "                res.putpixel((x, y), 1)\n",
    "    return res"
   ]
  },
  {
   "cell_type": "code",
   "execution_count": 53,
   "metadata": {},
   "outputs": [],
   "source": [
    "# im0=Image.open('mandril_color.tif')\n",
    "# im=im0.convert('L')\n",
    "im=Image.open('mandril_gray.tif')\n",
    "im1=thresholding(im, 127)"
   ]
  },
  {
   "cell_type": "code",
   "execution_count": 54,
   "metadata": {},
   "outputs": [],
   "source": [
    "im.show()"
   ]
  },
  {
   "cell_type": "code",
   "execution_count": 55,
   "metadata": {},
   "outputs": [],
   "source": [
    "im1.show()"
   ]
  },
  {
   "cell_type": "code",
   "execution_count": 56,
   "metadata": {},
   "outputs": [],
   "source": [
    "X, Y=[], []\n",
    "w, h=im1.size\n",
    "\n",
    "for x in range(w):\n",
    "    for y in range(h):\n",
    "        if im1.getpixel((x, y))==1:\n",
    "            X.append(x)\n",
    "            Y.append(y)"
   ]
  },
  {
   "cell_type": "code",
   "execution_count": 57,
   "metadata": {},
   "outputs": [],
   "source": [
    "def get_random_int(l: int, r: int)->int:\n",
    "    return np.random.randint(l,  r+1)"
   ]
  },
  {
   "cell_type": "code",
   "execution_count": 62,
   "metadata": {},
   "outputs": [],
   "source": [
    "i, j=get_random_int(0, len(X)-1), get_random_int(0, len(Y)-1)\n",
    "\n",
    "p1=(X[i], Y[i])\n",
    "p2=(X[j], Y[j])"
   ]
  },
  {
   "cell_type": "code",
   "execution_count": 63,
   "metadata": {},
   "outputs": [
    {
     "name": "stdout",
     "output_type": "stream",
     "text": [
      "p1=(128, 454), p2=(161, 206)\n",
      "d4=443.0, d8=342.0\n"
     ]
    }
   ],
   "source": [
    "print(f\"p1={p1}, p2={p2}\")\n",
    "print(f\"d4={cal_dist(p1, p2, im1)}, d8={cal_dist(p1, p2, im1, 'd8')}\")"
   ]
  }
 ],
 "metadata": {
  "kernelspec": {
   "display_name": "Python 3",
   "language": "python",
   "name": "python3"
  },
  "language_info": {
   "codemirror_mode": {
    "name": "ipython",
    "version": 3
   },
   "file_extension": ".py",
   "mimetype": "text/x-python",
   "name": "python",
   "nbconvert_exporter": "python",
   "pygments_lexer": "ipython3",
   "version": "3.10.12"
  }
 },
 "nbformat": 4,
 "nbformat_minor": 2
}
