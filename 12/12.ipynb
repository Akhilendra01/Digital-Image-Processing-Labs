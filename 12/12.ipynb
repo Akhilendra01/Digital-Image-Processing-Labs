{
 "cells": [
  {
   "cell_type": "code",
   "execution_count": 7,
   "metadata": {},
   "outputs": [],
   "source": [
    "from PIL import Image\n",
    "\n",
    "def translation(image, tx, ty):\n",
    "    translated_image = image.copy()\n",
    "    translated_image = translated_image.transform(image.size, Image.AFFINE, (1, 0, tx, 0, 1, ty))\n",
    "    return translated_image\n",
    "\n",
    "def scaling(image, scale_x, scale_y):\n",
    "    scaled_image = image.copy()\n",
    "    scaled_image = scaled_image.resize((int(image.width * scale_x), int(image.height * scale_y)))\n",
    "    return scaled_image\n",
    "\n",
    "def rotation(image, angle):\n",
    "    rotated_image = image.copy()\n",
    "    rotated_image = rotated_image.rotate(angle)\n",
    "    return rotated_image\n",
    "\n",
    "def shrinking(image, factor):\n",
    "    shrinked_image = image.copy()\n",
    "    shrinked_image = shrinked_image.resize((int(image.width * factor), int(image.height * factor)))\n",
    "    return shrinked_image\n",
    "\n",
    "def zooming(image, zoom_factor, interpolation=Image.NEAREST):\n",
    "    zoomed_image = image.copy()\n",
    "    width, height = image.size\n",
    "    new_width = int(width * zoom_factor)\n",
    "    new_height = int(height * zoom_factor)\n",
    "    zoomed_image = zoomed_image.resize((new_width, new_height), interpolation)\n",
    "    return zoomed_image"
   ]
  },
  {
   "cell_type": "code",
   "execution_count": 6,
   "metadata": {},
   "outputs": [],
   "source": [
    "image_path = \"mandril_color.tif\" \n",
    "image = Image.open(image_path)\n",
    "\n",
    "# Translation\n",
    "translated_image = translation(image, 50, 50)\n",
    "translated_image.save('translated.png')\n",
    "\n",
    "# Scaling\n",
    "scaled_image = scaling(image, 1.5, 1.5)\n",
    "scaled_image.save('scaled.png')\n",
    "\n",
    "# Rotation\n",
    "rotated_image = rotation(image, 45)\n",
    "rotated_image.save('rotated.png')\n",
    "\n",
    "# Shrinking\n",
    "shrinked_image = shrinking(image, 0.5)\n",
    "shrinked_image.save('shrinked.png')\n",
    "\n",
    "# Zooming\n",
    "zoomed_image_zero_order = zooming(image, 2.0, Image.NEAREST)\n",
    "zoomed_image_first_order = zooming(image, 2.0, Image.BILINEAR)\n",
    "zoomed_image_interpolation = zooming(image, 2.0, Image.BICUBIC)\n",
    "\n",
    "zoomed_image_zero_order.save('zoom0.png')\n",
    "zoomed_image_first_order.save('zoom1.png')\n",
    "zoomed_image_interpolation.save('zoom2.png')\n"
   ]
  }
 ],
 "metadata": {
  "kernelspec": {
   "display_name": "Python 3",
   "language": "python",
   "name": "python3"
  },
  "language_info": {
   "codemirror_mode": {
    "name": "ipython",
    "version": 3
   },
   "file_extension": ".py",
   "mimetype": "text/x-python",
   "name": "python",
   "nbconvert_exporter": "python",
   "pygments_lexer": "ipython3",
   "version": "3.10.12"
  }
 },
 "nbformat": 4,
 "nbformat_minor": 2
}
