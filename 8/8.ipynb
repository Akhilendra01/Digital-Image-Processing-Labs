{
 "cells": [
  {
   "cell_type": "code",
   "execution_count": 1,
   "metadata": {},
   "outputs": [],
   "source": [
    "from PIL import Image\n",
    "import numpy as np"
   ]
  },
  {
   "cell_type": "code",
   "execution_count": 2,
   "metadata": {},
   "outputs": [],
   "source": [
    "def convolve_1d(signal, mask):\n",
    "    mask_size = len(mask)\n",
    "    pad_width = mask_size // 2\n",
    "    signal_padded = np.pad(signal, pad_width, mode='edge')\n",
    "    result = np.zeros_like(signal)\n",
    "    for i in range(len(signal)):\n",
    "        result[i] = np.sum(signal_padded[i:i+mask_size] * mask)\n",
    "    return result"
   ]
  },
  {
   "cell_type": "code",
   "execution_count": 11,
   "metadata": {},
   "outputs": [],
   "source": [
    "def convolve_2d(image, mask):\n",
    "    mask_size = mask.shape[0]\n",
    "    pad_width = mask_size // 2\n",
    "    image_padded = np.pad(image, pad_width, mode='edge')\n",
    "    result = np.zeros_like(image)\n",
    "    for i in range(image.shape[0]):\n",
    "        for j in range(image.shape[1]):\n",
    "            result[i, j] = np.sum(image_padded[i:i+mask_size, j:j+mask_size] * mask)\n",
    "    return result"
   ]
  },
  {
   "cell_type": "markdown",
   "metadata": {},
   "source": [
    "#### 1D convolution"
   ]
  },
  {
   "cell_type": "code",
   "execution_count": 9,
   "metadata": {},
   "outputs": [],
   "source": [
    "image = Image.open(\"./lena_color_512.tif\").convert(\"L\")\n",
    "image_array = np.array(image)\n",
    "low_pass_mask = np.array([1, 1, 1]) / 3\n",
    "filtered_image = np.apply_along_axis(convolve_1d, axis=0, arr=image_array, mask=low_pass_mask)\n",
    "filtered_image = np.apply_along_axis(convolve_1d, axis=1, arr=filtered_image, mask=low_pass_mask)\n",
    "filtered_image = Image.fromarray(filtered_image)\n",
    "filtered_image.save(\"filtered_image_1d.jpg\")"
   ]
  },
  {
   "cell_type": "markdown",
   "metadata": {},
   "source": [
    "#### 2D convolution"
   ]
  },
  {
   "cell_type": "code",
   "execution_count": 16,
   "metadata": {},
   "outputs": [],
   "source": [
    "low_pass_mask = np.ones((3, 3)) / 9\n",
    "high_pass_mask = np.array([[-1, -1, -1], [-1,  8, -1], [-1, -1, -1]])\n",
    "filtered_image = convolve_2d(image_array, low_pass_mask)\n",
    "filtered_image = Image.fromarray(filtered_image)\n",
    "filtered_image.save(\"filtered_image_2d_low_pass.jpg\")\n",
    "filtered_image_high_pass = convolve_2d(image_array, high_pass_mask)\n",
    "filtered_image_high_pass = Image.fromarray(filtered_image_high_pass)\n",
    "filtered_image_high_pass.save(\"filtered_image_2d_high_pass.jpg\")"
   ]
  }
 ],
 "metadata": {
  "kernelspec": {
   "display_name": "Python 3",
   "language": "python",
   "name": "python3"
  },
  "language_info": {
   "codemirror_mode": {
    "name": "ipython",
    "version": 3
   },
   "file_extension": ".py",
   "mimetype": "text/x-python",
   "name": "python",
   "nbconvert_exporter": "python",
   "pygments_lexer": "ipython3",
   "version": "3.10.12"
  }
 },
 "nbformat": 4,
 "nbformat_minor": 2
}
