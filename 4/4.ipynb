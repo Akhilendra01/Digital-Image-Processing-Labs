{
 "cells": [
  {
   "cell_type": "code",
   "execution_count": 1,
   "metadata": {},
   "outputs": [],
   "source": [
    "from PIL import Image, ImageChops\n",
    "import warnings\n",
    "warnings.filterwarnings(\"ignore\")"
   ]
  },
  {
   "cell_type": "markdown",
   "metadata": {},
   "source": [
    "### a) And opertation between two images"
   ]
  },
  {
   "cell_type": "code",
   "execution_count": 2,
   "metadata": {},
   "outputs": [],
   "source": [
    "def andOpr(im1, im2):\n",
    "    res=Image.new('RGB', im1.size)\n",
    "    w, h=im1.size\n",
    "    for x in range(w):\n",
    "        for y in range(h):\n",
    "            r1, g1, b1=im1.getpixel((x, y))\n",
    "            r2, g2, b2=im2.getpixel((x, y))\n",
    "            res.putpixel((x, y), (r1&r2, g1&g2, b1&b2))\n",
    "    res.save(\"add.tif\")\n",
    "    res.show()"
   ]
  },
  {
   "cell_type": "markdown",
   "metadata": {},
   "source": [
    "### b) Or Operation between two images"
   ]
  },
  {
   "cell_type": "code",
   "execution_count": 3,
   "metadata": {},
   "outputs": [],
   "source": [
    "def orOpr(im1, im2):\n",
    "    res=Image.new('RGB', im1.size)\n",
    "    w, h=im1.size\n",
    "    for x in range(w):\n",
    "        for y in range(h):\n",
    "            r1, g1, b1=im1.getpixel((x, y))\n",
    "            r2, g2, b2=im2.getpixel((x, y))\n",
    "            res.putpixel((x, y), (r1|r2, g1|g2, b1|b2))\n",
    "    res.save(\"or.tif\")\n",
    "    res.show()"
   ]
  },
  {
   "cell_type": "markdown",
   "metadata": {},
   "source": [
    "### c) Intersection of Two Images"
   ]
  },
  {
   "cell_type": "code",
   "execution_count": 4,
   "metadata": {},
   "outputs": [],
   "source": [
    "def intersection(im1, im2):\n",
    "    im1=im1.convert('1')\n",
    "    im2=im2.convert('1')\n",
    "    res=ImageChops.logical_and(im1, im2)\n",
    "    res.save(\"intersection.tif\")\n",
    "    res.show()"
   ]
  },
  {
   "cell_type": "markdown",
   "metadata": {},
   "source": [
    "### d) Watermark using Xor Operation between two images"
   ]
  },
  {
   "cell_type": "code",
   "execution_count": 5,
   "metadata": {},
   "outputs": [],
   "source": [
    "def watermark(main, wm):\n",
    "    wm=wm.resize(main.size)\n",
    "    w, h=main.size\n",
    "    wm=wm.convert('RGB')\n",
    "    res=Image.new('RGB', main.size)\n",
    "    for x in range(w):\n",
    "        for y in range(h):\n",
    "            main_channel=main.getpixel((x, y))\n",
    "            wm_channel=wm.getpixel((x, y))\n",
    "            if(wm_channel==(255, 255, 255)):\n",
    "                wm_channel=(0, 0, 0)\n",
    "            new_channel=tuple([p^q for p, q in zip(main_channel, wm_channel)])\n",
    "            res.putpixel((x, y), new_channel)\n",
    "    res.save(\"watermaked.tif\")\n",
    "    res.show()\n",
    "    "
   ]
  },
  {
   "cell_type": "markdown",
   "metadata": {},
   "source": [
    "### e) Negative of an Image"
   ]
  },
  {
   "cell_type": "code",
   "execution_count": 6,
   "metadata": {},
   "outputs": [],
   "source": [
    "def negOpr(im):\n",
    "    res=Image.new('RGB', im.size)\n",
    "    w, h=im.size\n",
    "    for x in range(w):\n",
    "        for y in range(h):\n",
    "            main_channel=im.getpixel((x, y))\n",
    "            new_channel=tuple([255-p for p in main_channel])\n",
    "            res.putpixel((x, y), new_channel)\n",
    "    res.save(\"neg.tif\")\n",
    "    res.show()"
   ]
  },
  {
   "cell_type": "code",
   "execution_count": 14,
   "metadata": {},
   "outputs": [],
   "source": [
    "path1, path2=\"mandril_color.tif\", \"lena_color_512.tif\"\n",
    "path3=\"watermark.png\"\n",
    "im1=Image.open(path1)\n",
    "im2=Image.open(path2)\n",
    "im3=Image.open(path3)\n",
    "andOpr(im1, im2)\n",
    "orOpr(im1, im2)\n",
    "intersection(im1, im2)\n",
    "watermark(im1, im3)\n",
    "negOpr(im1)"
   ]
  }
 ],
 "metadata": {
  "kernelspec": {
   "display_name": "Python 3",
   "language": "python",
   "name": "python3"
  },
  "language_info": {
   "codemirror_mode": {
    "name": "ipython",
    "version": 3
   },
   "file_extension": ".py",
   "mimetype": "text/x-python",
   "name": "python",
   "nbconvert_exporter": "python",
   "pygments_lexer": "ipython3",
   "version": "3.10.12"
  }
 },
 "nbformat": 4,
 "nbformat_minor": 2
}
