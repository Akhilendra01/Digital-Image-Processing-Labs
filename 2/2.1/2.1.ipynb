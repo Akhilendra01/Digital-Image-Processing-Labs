{
 "cells": [
  {
   "cell_type": "code",
   "execution_count": 23,
   "metadata": {},
   "outputs": [],
   "source": [
    "from PIL import Image\n",
    "import numpy as np"
   ]
  },
  {
   "cell_type": "markdown",
   "metadata": {},
   "source": [
    "### Negative Image"
   ]
  },
  {
   "cell_type": "code",
   "execution_count": 24,
   "metadata": {},
   "outputs": [],
   "source": [
    "def convert_to_neg(img_path):\n",
    "    img=Image.open(img_path)\n",
    "    width, height=img.size\n",
    "    neg_img=Image.new('RGB', img.size)\n",
    "    for x in range(width):\n",
    "        for y in range(height):\n",
    "            r, g, b=img.getpixel((x, y))\n",
    "            r, g, b=255-r, 255-g, 255-b\n",
    "            neg_img.putpixel((x, y), (r, g, b))\n",
    "    neg_img.save(img_path[:img_path.index('.')]+\"_negative.jpeg\")\n",
    "    neg_img.show()\n"
   ]
  },
  {
   "cell_type": "code",
   "execution_count": 25,
   "metadata": {},
   "outputs": [],
   "source": [
    "image_path=\"mount_fuji.jpeg\"\n",
    "convert_to_neg(image_path)"
   ]
  },
  {
   "cell_type": "markdown",
   "metadata": {},
   "source": [
    "### Flip"
   ]
  },
  {
   "cell_type": "code",
   "execution_count": 26,
   "metadata": {},
   "outputs": [],
   "source": [
    "def flip_image(img_path):\n",
    "    img=Image.open(img_path)\n",
    "    hor_flip=img.transpose(Image.FLIP_LEFT_RIGHT)\n",
    "    ver_flip=img.transpose(Image.FLIP_TOP_BOTTOM)\n",
    "    both_flip=img.transpose(Image.ROTATE_180)\n",
    "    hor_flip.save(img_path[:img_path.index('.')]+\"_hor_flip.jpeg\")\n",
    "    ver_flip.save(img_path[:img_path.index('.')]+\"_ver_flip.jpeg\")\n",
    "    both_flip.save(img_path[:img_path.index('.')]+\"_both_flip.jpeg\")\n",
    "    hor_flip.show() \n",
    "    ver_flip.show() \n",
    "    both_flip.show() "
   ]
  },
  {
   "cell_type": "code",
   "execution_count": 27,
   "metadata": {},
   "outputs": [],
   "source": [
    "img_path=\"mount_fuji.jpeg\"\n",
    "flip_image(img_path)"
   ]
  },
  {
   "cell_type": "markdown",
   "metadata": {},
   "source": [
    "### Thresholding"
   ]
  },
  {
   "cell_type": "code",
   "execution_count": 42,
   "metadata": {},
   "outputs": [],
   "source": [
    "def thresholding(img_path):\n",
    "    threshold_values=np.array([i*32 for i in range(1, 7)])\n",
    "    img=Image.open(img_path)\n",
    "    grayscale=img.convert(\"L\")\n",
    "    width, height=img.size \n",
    "    for _, threshold_value in enumerate(threshold_values):\n",
    "        result=Image.new(\"L\", img.size)\n",
    "        for x in range(width):\n",
    "            for y in range(height):\n",
    "                if grayscale.getpixel((x, y))>=threshold_value:\n",
    "                    result.putpixel((x, y), 255)\n",
    "                else:\n",
    "                    result.putpixel((x, y), 0)\n",
    "        result.save(img_path[:img_path.index('.')]+str(_+1)+\".jpeg\")\n",
    "        result.show()            \n"
   ]
  },
  {
   "cell_type": "code",
   "execution_count": 43,
   "metadata": {},
   "outputs": [
    {
     "name": "stderr",
     "output_type": "stream",
     "text": [
      "\n",
      "(eog:8997): EOG-CRITICAL **: 15:15:52.350: eog_image_get_file: assertion 'EOG_IS_IMAGE (img)' failed\n",
      "\n",
      "(eog:8997): GLib-GIO-CRITICAL **: 15:15:52.350: g_file_equal: assertion 'G_IS_FILE (file1)' failed\n",
      "\n",
      "(eog:8997): EOG-CRITICAL **: 15:15:52.413: eog_image_get_file: assertion 'EOG_IS_IMAGE (img)' failed\n",
      "\n",
      "(eog:8997): GLib-GIO-CRITICAL **: 15:15:52.413: g_file_equal: assertion 'G_IS_FILE (file1)' failed\n"
     ]
    },
    {
     "name": "stderr",
     "output_type": "stream",
     "text": [
      "\n",
      "(eog:8997): EOG-CRITICAL **: 15:15:52.530: eog_image_get_file: assertion 'EOG_IS_IMAGE (img)' failed\n",
      "\n",
      "(eog:8997): GLib-GIO-CRITICAL **: 15:15:52.531: g_file_equal: assertion 'G_IS_FILE (file1)' failed\n",
      "\n",
      "(eog:8997): EOG-CRITICAL **: 15:15:52.531: eog_image_get_file: assertion 'EOG_IS_IMAGE (img)' failed\n",
      "\n",
      "(eog:8997): GLib-GIO-CRITICAL **: 15:15:52.531: g_file_equal: assertion 'G_IS_FILE (file1)' failed\n"
     ]
    }
   ],
   "source": [
    "img_path=\"mount_fuji.jpeg\"\n",
    "thresholding(img_path)"
   ]
  },
  {
   "cell_type": "code",
   "execution_count": null,
   "metadata": {},
   "outputs": [],
   "source": []
  }
 ],
 "metadata": {
  "kernelspec": {
   "display_name": "Python 3",
   "language": "python",
   "name": "python3"
  },
  "language_info": {
   "codemirror_mode": {
    "name": "ipython",
    "version": 3
   },
   "file_extension": ".py",
   "mimetype": "text/x-python",
   "name": "python",
   "nbconvert_exporter": "python",
   "pygments_lexer": "ipython3",
   "version": "3.10.12"
  }
 },
 "nbformat": 4,
 "nbformat_minor": 2
}
