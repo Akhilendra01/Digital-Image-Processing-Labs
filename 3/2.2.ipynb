{
 "cells": [
  {
   "cell_type": "code",
   "execution_count": 11,
   "metadata": {},
   "outputs": [],
   "source": [
    "from PIL import Image, ImageChops"
   ]
  },
  {
   "cell_type": "markdown",
   "metadata": {},
   "source": [
    "### Add two images"
   ]
  },
  {
   "cell_type": "code",
   "execution_count": 12,
   "metadata": {},
   "outputs": [],
   "source": [
    "def addImages(path1, path2):\n",
    "    img1, img2=Image.open(path1), Image.open(path2)\n",
    "    img2=img2.resize(img1.size)\n",
    "    result=ImageChops.add(img1, img2)\n",
    "    result.save(\"add.jpeg\")\n",
    "    result.show()"
   ]
  },
  {
   "cell_type": "markdown",
   "metadata": {},
   "source": [
    "### Subtract two images"
   ]
  },
  {
   "cell_type": "code",
   "execution_count": 14,
   "metadata": {},
   "outputs": [],
   "source": [
    "def subtractImages(path1, path2):\n",
    "    img1, img2=Image.open(path1), Image.open(path2)\n",
    "    img2=img2.resize(img1.size)\n",
    "    result=ImageChops.subtract(img1, img2)\n",
    "    result.save(\"subtract.jpeg\")\n",
    "    result.show()"
   ]
  },
  {
   "cell_type": "markdown",
   "metadata": {},
   "source": [
    "### Mean of the image"
   ]
  },
  {
   "cell_type": "code",
   "execution_count": 20,
   "metadata": {},
   "outputs": [],
   "source": [
    "def findMean(path):\n",
    "    img=Image.open(path)\n",
    "    img=img.convert(\"L\")\n",
    "    avg=sum(img.getdata())/(img.size[0]*img.size[1])\n",
    "    return avg"
   ]
  },
  {
   "cell_type": "code",
   "execution_count": 16,
   "metadata": {},
   "outputs": [],
   "source": [
    "path1, path2=\"capybara.jpeg\", \"lemur.jpeg\"\n",
    "addImages(path1, path2)\n",
    "subtractImages(path1, path2)"
   ]
  },
  {
   "cell_type": "code",
   "execution_count": 21,
   "metadata": {},
   "outputs": [
    {
     "name": "stdout",
     "output_type": "stream",
     "text": [
      "154.39147540983606 102.37322495154464\n"
     ]
    }
   ],
   "source": [
    "print(findMean(path1), findMean(path2))"
   ]
  }
 ],
 "metadata": {
  "kernelspec": {
   "display_name": "Python 3",
   "language": "python",
   "name": "python3"
  },
  "language_info": {
   "codemirror_mode": {
    "name": "ipython",
    "version": 3
   },
   "file_extension": ".py",
   "mimetype": "text/x-python",
   "name": "python",
   "nbconvert_exporter": "python",
   "pygments_lexer": "ipython3",
   "version": "3.10.12"
  }
 },
 "nbformat": 4,
 "nbformat_minor": 2
}
